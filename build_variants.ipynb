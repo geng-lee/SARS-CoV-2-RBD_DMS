{
 "cells": [
  {
   "cell_type": "markdown",
   "metadata": {},
   "source": [
    "# Build barcode variant table\n",
    "This Python Jupyter notebook builds consensus sequences for barcoded variants from the mutations called in the processed PacBio CCSs.\n",
    "It then uses these consensus sequences to build a codon variant table.\n",
    "\n",
    "## Set up analysis\n",
    "### Import Python modules.\n",
    "Use [plotnine](https://github.com/has2k1/plotnine) for ggplot2-like plotting.\n",
    "\n",
    "The analysis uses the Bloom lab's [alignparse](https://jbloomlab.github.io/alignparse) and [dms_variants](https://jbloomlab.github.io/dms_variants) packages:"
   ]
  },
  {
   "cell_type": "code",
   "execution_count": 1,
   "metadata": {},
   "outputs": [],
   "source": [
    "import os\n",
    "import re\n",
    "import warnings\n",
    "\n",
    "import alignparse\n",
    "import alignparse.consensus\n",
    "import alignparse.targets\n",
    "\n",
    "import dms_variants\n",
    "import dms_variants.codonvarianttable\n",
    "from dms_variants.constants import CBPALETTE\n",
    "import dms_variants.plotnine_themes\n",
    "\n",
    "from IPython.display import display, HTML\n",
    "\n",
    "import numpy\n",
    "\n",
    "import pandas as pd\n",
    "\n",
    "from plotnine import *\n",
    "\n",
    "import yaml"
   ]
  },
  {
   "cell_type": "markdown",
   "metadata": {},
   "source": [
    "Set [plotnine](https://github.com/has2k1/plotnine) theme to the gray grid one defined in [dms_variants](https://jbloomlab.github.io/dms_variants):"
   ]
  },
  {
   "cell_type": "code",
   "execution_count": 2,
   "metadata": {},
   "outputs": [],
   "source": [
    "theme_set(dms_variants.plotnine_themes.theme_graygrid())"
   ]
  },
  {
   "cell_type": "markdown",
   "metadata": {},
   "source": [
    "Versions of key software:"
   ]
  },
  {
   "cell_type": "code",
   "execution_count": 3,
   "metadata": {},
   "outputs": [
    {
     "name": "stdout",
     "output_type": "stream",
     "text": [
      "Using alignparse version 0.1.3\n",
      "Using dms_variants version 0.6.0\n"
     ]
    }
   ],
   "source": [
    "print(f\"Using alignparse version {alignparse.__version__}\")\n",
    "print(f\"Using dms_variants version {dms_variants.__version__}\")"
   ]
  },
  {
   "cell_type": "markdown",
   "metadata": {},
   "source": [
    "Ignore warnings that clutter output:"
   ]
  },
  {
   "cell_type": "code",
   "execution_count": 4,
   "metadata": {},
   "outputs": [],
   "source": [
    "warnings.simplefilter('ignore')"
   ]
  },
  {
   "cell_type": "markdown",
   "metadata": {},
   "source": [
    "### Parameters for notebook\n",
    "Read the configuration file:"
   ]
  },
  {
   "cell_type": "code",
   "execution_count": 5,
   "metadata": {
    "tags": [
     "parameters"
    ]
   },
   "outputs": [],
   "source": [
    "with open('config.yaml') as f:\n",
    "    config = yaml.safe_load(f)"
   ]
  },
  {
   "cell_type": "markdown",
   "metadata": {},
   "source": [
    "Make output directories if needed:"
   ]
  },
  {
   "cell_type": "code",
   "execution_count": 6,
   "metadata": {},
   "outputs": [],
   "source": [
    "os.makedirs(config['variants_dir'], exist_ok=True)\n",
    "os.makedirs(config['figs_dir'], exist_ok=True)"
   ]
  },
  {
   "cell_type": "markdown",
   "metadata": {},
   "source": [
    "## Build variant consensus sequences\n",
    "We now use the processed CCSs to build a consensus sequence (really, list of mutations) for each barcoded variant in each library."
   ]
  },
  {
   "cell_type": "markdown",
   "metadata": {},
   "source": [
    "### Get processed CCSs\n",
    "Read the CSV file with the processed CCSs into a data frame:"
   ]
  },
  {
   "cell_type": "code",
   "execution_count": 7,
   "metadata": {},
   "outputs": [
    {
     "name": "stdout",
     "output_type": "stream",
     "text": [
      "Read 999925 CCSs from 2 libraries and 12 targets.\n"
     ]
    }
   ],
   "source": [
    "processed_ccs = pd.read_csv(config['processed_ccs_file'], na_filter=None)\n",
    "\n",
    "nlibs = processed_ccs['library'].nunique()  # number of unique libraries\n",
    "\n",
    "ntargets = processed_ccs['target'].nunique()  # number of unique targets\n",
    "\n",
    "print(f\"Read {len(processed_ccs)} CCSs from {nlibs} libraries and {ntargets} targets.\")"
   ]
  },
  {
   "cell_type": "markdown",
   "metadata": {},
   "source": [
    "Here are the first few lines:"
   ]
  },
  {
   "cell_type": "code",
   "execution_count": 8,
   "metadata": {},
   "outputs": [
    {
     "data": {
      "text/html": [
       "<table border=\"1\" class=\"dataframe\">\n",
       "  <thead>\n",
       "    <tr style=\"text-align: right;\">\n",
       "      <th>library</th>\n",
       "      <th>query_name</th>\n",
       "      <th>gene_mutations</th>\n",
       "      <th>gene_accuracy</th>\n",
       "      <th>barcode</th>\n",
       "      <th>barcode_accuracy</th>\n",
       "      <th>target</th>\n",
       "    </tr>\n",
       "  </thead>\n",
       "  <tbody>\n",
       "    <tr>\n",
       "      <td>lib1</td>\n",
       "      <td>m54228_200414_185350/4391490/ccs</td>\n",
       "      <td></td>\n",
       "      <td>1.0</td>\n",
       "      <td>ATTTCCATCAAATTAA</td>\n",
       "      <td>1.0</td>\n",
       "      <td>BM48-31</td>\n",
       "    </tr>\n",
       "    <tr>\n",
       "      <td>lib1</td>\n",
       "      <td>m54228_200414_185350/5243143/ccs</td>\n",
       "      <td></td>\n",
       "      <td>1.0</td>\n",
       "      <td>GCGCTGTACCCTCTGG</td>\n",
       "      <td>1.0</td>\n",
       "      <td>BM48-31</td>\n",
       "    </tr>\n",
       "    <tr>\n",
       "      <td>lib1</td>\n",
       "      <td>m54228_200414_185350/5243413/ccs</td>\n",
       "      <td></td>\n",
       "      <td>1.0</td>\n",
       "      <td>TTCAATTAAGTCCGCC</td>\n",
       "      <td>1.0</td>\n",
       "      <td>BM48-31</td>\n",
       "    </tr>\n",
       "    <tr>\n",
       "      <td>lib1</td>\n",
       "      <td>m54228_200414_185350/5505876/ccs</td>\n",
       "      <td></td>\n",
       "      <td>1.0</td>\n",
       "      <td>GTTTCACTGTGATATA</td>\n",
       "      <td>1.0</td>\n",
       "      <td>BM48-31</td>\n",
       "    </tr>\n",
       "    <tr>\n",
       "      <td>lib1</td>\n",
       "      <td>m54228_200414_185350/5636186/ccs</td>\n",
       "      <td>T355C</td>\n",
       "      <td>1.0</td>\n",
       "      <td>CAGCTAATACTTCTCC</td>\n",
       "      <td>1.0</td>\n",
       "      <td>BM48-31</td>\n",
       "    </tr>\n",
       "  </tbody>\n",
       "</table>"
      ],
      "text/plain": [
       "<IPython.core.display.HTML object>"
      ]
     },
     "metadata": {},
     "output_type": "display_data"
    }
   ],
   "source": [
    "display(HTML(processed_ccs.head().to_html(index=False)))"
   ]
  },
  {
   "cell_type": "markdown",
   "metadata": {},
   "source": [
    "Overall statistics on number of total CCSs and number of unique barcodes:"
   ]
  },
  {
   "cell_type": "code",
   "execution_count": 9,
   "metadata": {},
   "outputs": [
    {
     "data": {
      "text/html": [
       "<table border=\"1\" class=\"dataframe\">\n",
       "  <thead>\n",
       "    <tr style=\"text-align: right;\">\n",
       "      <th></th>\n",
       "      <th></th>\n",
       "      <th>total_CCSs</th>\n",
       "      <th>unique_barcodes</th>\n",
       "      <th>avg_CCSs_per_barcode</th>\n",
       "    </tr>\n",
       "    <tr>\n",
       "      <th>target</th>\n",
       "      <th>library</th>\n",
       "      <th></th>\n",
       "      <th></th>\n",
       "      <th></th>\n",
       "    </tr>\n",
       "  </thead>\n",
       "  <tbody>\n",
       "    <tr>\n",
       "      <th rowspan=\"2\" valign=\"top\">BM48-31</th>\n",
       "      <th>lib1</th>\n",
       "      <td>288</td>\n",
       "      <td>110</td>\n",
       "      <td>2.62</td>\n",
       "    </tr>\n",
       "    <tr>\n",
       "      <th>lib2</th>\n",
       "      <td>459</td>\n",
       "      <td>121</td>\n",
       "      <td>3.79</td>\n",
       "    </tr>\n",
       "    <tr>\n",
       "      <th rowspan=\"2\" valign=\"top\">GD-Pangolin</th>\n",
       "      <th>lib1</th>\n",
       "      <td>338</td>\n",
       "      <td>122</td>\n",
       "      <td>2.77</td>\n",
       "    </tr>\n",
       "    <tr>\n",
       "      <th>lib2</th>\n",
       "      <td>452</td>\n",
       "      <td>129</td>\n",
       "      <td>3.50</td>\n",
       "    </tr>\n",
       "    <tr>\n",
       "      <th rowspan=\"2\" valign=\"top\">HKU3-1</th>\n",
       "      <th>lib1</th>\n",
       "      <td>269</td>\n",
       "      <td>108</td>\n",
       "      <td>2.49</td>\n",
       "    </tr>\n",
       "    <tr>\n",
       "      <th>lib2</th>\n",
       "      <td>432</td>\n",
       "      <td>123</td>\n",
       "      <td>3.51</td>\n",
       "    </tr>\n",
       "    <tr>\n",
       "      <th rowspan=\"2\" valign=\"top\">LYRa11</th>\n",
       "      <th>lib1</th>\n",
       "      <td>252</td>\n",
       "      <td>86</td>\n",
       "      <td>2.93</td>\n",
       "    </tr>\n",
       "    <tr>\n",
       "      <th>lib2</th>\n",
       "      <td>329</td>\n",
       "      <td>99</td>\n",
       "      <td>3.32</td>\n",
       "    </tr>\n",
       "    <tr>\n",
       "      <th rowspan=\"2\" valign=\"top\">RaTG13</th>\n",
       "      <th>lib1</th>\n",
       "      <td>328</td>\n",
       "      <td>114</td>\n",
       "      <td>2.88</td>\n",
       "    </tr>\n",
       "    <tr>\n",
       "      <th>lib2</th>\n",
       "      <td>489</td>\n",
       "      <td>123</td>\n",
       "      <td>3.98</td>\n",
       "    </tr>\n",
       "    <tr>\n",
       "      <th rowspan=\"2\" valign=\"top\">Rf1</th>\n",
       "      <th>lib1</th>\n",
       "      <td>298</td>\n",
       "      <td>110</td>\n",
       "      <td>2.71</td>\n",
       "    </tr>\n",
       "    <tr>\n",
       "      <th>lib2</th>\n",
       "      <td>404</td>\n",
       "      <td>123</td>\n",
       "      <td>3.28</td>\n",
       "    </tr>\n",
       "    <tr>\n",
       "      <th rowspan=\"2\" valign=\"top\">Rp3</th>\n",
       "      <th>lib1</th>\n",
       "      <td>250</td>\n",
       "      <td>98</td>\n",
       "      <td>2.55</td>\n",
       "    </tr>\n",
       "    <tr>\n",
       "      <th>lib2</th>\n",
       "      <td>388</td>\n",
       "      <td>112</td>\n",
       "      <td>3.46</td>\n",
       "    </tr>\n",
       "    <tr>\n",
       "      <th rowspan=\"2\" valign=\"top\">SARS-CoV</th>\n",
       "      <th>lib1</th>\n",
       "      <td>371</td>\n",
       "      <td>126</td>\n",
       "      <td>2.94</td>\n",
       "    </tr>\n",
       "    <tr>\n",
       "      <th>lib2</th>\n",
       "      <td>490</td>\n",
       "      <td>131</td>\n",
       "      <td>3.74</td>\n",
       "    </tr>\n",
       "    <tr>\n",
       "      <th rowspan=\"2\" valign=\"top\">SARS-CoV-2</th>\n",
       "      <th>lib1</th>\n",
       "      <td>425538</td>\n",
       "      <td>104240</td>\n",
       "      <td>4.08</td>\n",
       "    </tr>\n",
       "    <tr>\n",
       "      <th>lib2</th>\n",
       "      <td>566406</td>\n",
       "      <td>102987</td>\n",
       "      <td>5.50</td>\n",
       "    </tr>\n",
       "    <tr>\n",
       "      <th rowspan=\"2\" valign=\"top\">WIV16</th>\n",
       "      <th>lib1</th>\n",
       "      <td>305</td>\n",
       "      <td>105</td>\n",
       "      <td>2.90</td>\n",
       "    </tr>\n",
       "    <tr>\n",
       "      <th>lib2</th>\n",
       "      <td>423</td>\n",
       "      <td>122</td>\n",
       "      <td>3.47</td>\n",
       "    </tr>\n",
       "    <tr>\n",
       "      <th rowspan=\"2\" valign=\"top\">ZC45</th>\n",
       "      <th>lib1</th>\n",
       "      <td>323</td>\n",
       "      <td>126</td>\n",
       "      <td>2.56</td>\n",
       "    </tr>\n",
       "    <tr>\n",
       "      <th>lib2</th>\n",
       "      <td>468</td>\n",
       "      <td>143</td>\n",
       "      <td>3.27</td>\n",
       "    </tr>\n",
       "    <tr>\n",
       "      <th rowspan=\"2\" valign=\"top\">ZXC21</th>\n",
       "      <th>lib1</th>\n",
       "      <td>265</td>\n",
       "      <td>107</td>\n",
       "      <td>2.48</td>\n",
       "    </tr>\n",
       "    <tr>\n",
       "      <th>lib2</th>\n",
       "      <td>360</td>\n",
       "      <td>114</td>\n",
       "      <td>3.16</td>\n",
       "    </tr>\n",
       "  </tbody>\n",
       "</table>"
      ],
      "text/plain": [
       "<IPython.core.display.HTML object>"
      ]
     },
     "metadata": {},
     "output_type": "display_data"
    }
   ],
   "source": [
    "display(HTML(\n",
    "    processed_ccs\n",
    "    .groupby(['target', 'library'])\n",
    "    .aggregate(total_CCSs=('barcode', 'size'),\n",
    "               unique_barcodes=('barcode', 'nunique'))\n",
    "    .assign(avg_CCSs_per_barcode=lambda x: x['total_CCSs'] / x['unique_barcodes'])\n",
    "    .round(2)\n",
    "    .to_html()\n",
    "    ))"
   ]
  },
  {
   "cell_type": "markdown",
   "metadata": {},
   "source": [
    "### Filter processed CCSs\n",
    "We have the PacBio `ccs` program's estimated \"accuracy\" for both the barcode and the gene sequence for each processed CCS.\n",
    "We will filter the CCSs to only keep ones of sufficiently high accuracy.\n",
    "\n",
    "First, we want to plot the accuracies.\n",
    "It is actually visually easier to look at the error rate, which is one minus the accuracy.\n",
    "Because we want to plot on a log scale (which can't show error rates of zero), we define a *error_rate_floor*, and set all error rates less than this to that value:"
   ]
  },
  {
   "cell_type": "code",
   "execution_count": 10,
   "metadata": {},
   "outputs": [],
   "source": [
    "error_rate_floor = 1e-7  # error rates < this set to this\n",
    "if error_rate_floor >= config['max_error_rate']:\n",
    "    raise ValueError('error_rate_floor must be < max_error_rate')\n",
    "\n",
    "processed_ccs = (\n",
    "    processed_ccs\n",
    "    .assign(barcode_error=lambda x: numpy.clip(1 - x['barcode_accuracy'],\n",
    "                                               error_rate_floor, None),\n",
    "            gene_error=lambda x: numpy.clip(1 - x['gene_accuracy'],\n",
    "                                            error_rate_floor, None)\n",
    "            )\n",
    "    )"
   ]
  },
  {
   "cell_type": "markdown",
   "metadata": {},
   "source": [
    "Now plot the error rates, drawing a dashed vertical line at the threshold separating the CCSs we retain for consensus building versus those that we discard:"
   ]
  },
  {
   "cell_type": "code",
   "execution_count": 11,
   "metadata": {},
   "outputs": [
    {
     "data": {
      "image/png": "[encoded data removed]",
      "text/plain": [
       "<Figure size 450x200 with 2 Axes>"
      ]
     },
     "metadata": {
      "needs_background": "light"
     },
     "output_type": "display_data"
    }
   ],
   "source": [
    "_ = (\n",
    " ggplot(processed_ccs\n",
    "        .melt(value_vars=['barcode_error', 'gene_error'],\n",
    "              var_name='feature_type', value_name='error rate'),\n",
    "        aes('error rate')) +\n",
    " geom_histogram(bins=25) +\n",
    " geom_vline(xintercept=config['max_error_rate'],\n",
    "            linetype='dashed',\n",
    "            color=CBPALETTE[1]) +\n",
    " facet_wrap('~ feature_type') +\n",
    " theme(figure_size=(4.5, 2)) +\n",
    " ylab('number of CCSs') +\n",
    " scale_x_log10()\n",
    " ).draw()"
   ]
  },
  {
   "cell_type": "markdown",
   "metadata": {},
   "source": [
    "Flag the CCSs to retain, and indicate how many we are retaining and purging due to the accuracy filter:"
   ]
  },
  {
   "cell_type": "code",
   "execution_count": 12,
   "metadata": {},
   "outputs": [],
   "source": [
    "processed_ccs = (\n",
    "    processed_ccs\n",
    "    .assign(retained=lambda x: ((x['gene_error'] < config['max_error_rate']) &\n",
    "                                (x['barcode_error'] < config['max_error_rate'])))\n",
    "    )"
   ]
  },
  {
   "cell_type": "markdown",
   "metadata": {},
   "source": [
    "Here are number of retained CCSs:"
   ]
  },
  {
   "cell_type": "code",
   "execution_count": 13,
   "metadata": {},
   "outputs": [
    {
     "data": {
      "image/png": "[encoded data removed]",
      "text/plain": [
       "<Figure size 1200x300 with 1 Axes>"
      ]
     },
     "metadata": {
      "needs_background": "light"
     },
     "output_type": "display_data"
    }
   ],
   "source": [
    "_ = (\n",
    " ggplot(processed_ccs.assign(xlabel=lambda x: x['target'] + ', ' + x['library'])\n",
    "                     .groupby(['xlabel', 'retained'])\n",
    "                     .size()\n",
    "                     .rename('count')\n",
    "                     .reset_index(),\n",
    "        aes('xlabel', 'count', color='retained', label='count')) +\n",
    " geom_point(size=3) +\n",
    " geom_text(va='bottom', size=7, ha='center',format_string='{:.3g}', nudge_y=0.2) +\n",
    " theme(figure_size=(0.5 * nlibs * ntargets, 3),\n",
    "       panel_grid_major_x=element_blank(),\n",
    "       axis_text_x=element_text(angle=90),\n",
    "       ) +\n",
    " scale_y_log10(name='number of CCSs') +\n",
    " xlab('') +\n",
    " scale_color_manual(values=CBPALETTE[1:])\n",
    " ).draw()"
   ]
  },
  {
   "cell_type": "markdown",
   "metadata": {},
   "source": [
    "### Sequences per barcode\n",
    "How many times is each barcode sequenced?\n",
    "This is useful to know for thinking about building the barcode consensus.\n",
    "\n",
    "First, plot the distribution of the number of times each **barcode** is observed among the retained CCSs:"
   ]
  },
  {
   "cell_type": "code",
   "execution_count": 14,
   "metadata": {},
   "outputs": [
    {
     "data": {
      "image/png": "[encoded data removed]",
      "text/plain": [
       "<Figure size 350x200 with 2 Axes>"
      ]
     },
     "metadata": {
      "needs_background": "light"
     },
     "output_type": "display_data"
    }
   ],
   "source": [
    "max_count = 8 # in plot, group all barcodes with >= this many counts\n",
    "\n",
    "p = (\n",
    " ggplot(\n",
    "    processed_ccs\n",
    "     .query('retained')\n",
    "     .groupby(['library', 'barcode'])\n",
    "     .size()\n",
    "     .rename('nseqs')\n",
    "     .reset_index()\n",
    "     .assign(nseqs=lambda x: numpy.clip(x['nseqs'], None, max_count)),\n",
    "    aes('nseqs')) +\n",
    " geom_bar() +\n",
    " facet_wrap('~ library', nrow=1) +\n",
    " theme(figure_size=(1.75 * nlibs, 2),\n",
    "       panel_grid_major_x=element_blank(),\n",
    "       ) +\n",
    " ylab('number of barcodes') +\n",
    " xlab('CCSs for barcode')\n",
    " )\n",
    "\n",
    "_ = p.draw()"
   ]
  },
  {
   "cell_type": "markdown",
   "metadata": {},
   "source": [
    "Now we plot the distribution of the number of **sequences** with barcodes that are observed a given number of time (again among retained CCSs).\n",
    "This plot differs from the one above because if a barcode is observed multiple times it is given one count in the barcode-count plot above (which tallies barcodes) but multiple counts in the sequence-count plot below:"
   ]
  },
  {
   "cell_type": "code",
   "execution_count": 15,
   "metadata": {},
   "outputs": [
    {
     "data": {
      "image/png": "[encoded data removed]",
      "text/plain": [
       "<Figure size 350x200 with 2 Axes>"
      ]
     },
     "metadata": {
      "needs_background": "light"
     },
     "output_type": "display_data"
    }
   ],
   "source": [
    "_ = (\n",
    " ggplot(\n",
    "    processed_ccs\n",
    "     .query('retained')\n",
    "     .assign(barcode_counts=1)\n",
    "     .assign(barcode_counts=lambda x: numpy.clip(\n",
    "        x.groupby(['library', 'barcode']).transform('count'), None, max_count)),\n",
    "    aes('barcode_counts')) +\n",
    " geom_bar() +\n",
    " facet_wrap('~ library', nrow=1) +\n",
    " theme(figure_size=(1.75 * nlibs, 2),\n",
    "       panel_grid_major_x=element_blank(),) +\n",
    " ylab('number of CCSs') +\n",
    " xlab('CCSs per barcode')\n",
    " ).draw()"
   ]
  },
  {
   "cell_type": "markdown",
   "metadata": {},
   "source": [
    "### Empirical accuracy of CCSs\n",
    "We want to directly estimate the accuracy of the gene-barcode link rather than relying on the PacBio `ccs` accuracy, which doesn't include inaccuracies due to things like strand exchange or the same barcode on different sequences.\n",
    "\n",
    "One way to do this is to examine instances when we have multiple sequences for the same barcode. \n",
    "We can calculate the empirical accuracy of the sequences by looking at all instances of multiple sequences of the same barcode and determining how often they are identical.\n",
    "This calculation is performed by `alignparse.consensus.empirical_accuracy` using the equations described in the docs for that function.\n",
    "\n",
    "We will do this four for sets of sequences:\n",
    "\n",
    " 1. All of the CCSs retained above.\n",
    " 2. CCSs retained by applying a PacBio `ccs` accuracy filter 10-fold more stringent than the one above.\n",
    "    The rationale is that if this improves the concordance (real accuracy) of the CCSs substantially then maybe we should make the accuracy filter more stringent.\n",
    " 3. Like (1) but excluding all CCSs with indels.\n",
    "    the rationale is that we only really care about substitutions, and will exclude sequences with indels anyway.\n",
    " 4. Like (2) but excluding all CCSs with indels.\n",
    " \n",
    "First, we annotate the sequences with the number of indels and whether they have an indel to enable categorization into the aforementioned sets:"
   ]
  },
  {
   "cell_type": "code",
   "execution_count": 16,
   "metadata": {},
   "outputs": [],
   "source": [
    "processed_ccs = alignparse.consensus.add_mut_info_cols(processed_ccs,\n",
    "                                                       mutation_col='gene_mutations',\n",
    "                                                       n_indel_col='n_indels')\n",
    "\n",
    "processed_ccs = processed_ccs.assign(has_indel=lambda x: x['n_indels'] > 0)"
   ]
  },
  {
   "cell_type": "markdown",
   "metadata": {},
   "source": [
    "Plot how many sequences have indels:"
   ]
  },
  {
   "cell_type": "code",
   "execution_count": 17,
   "metadata": {},
   "outputs": [
    {
     "data": {
      "image/png": "[encoded data removed]",
      "text/plain": [
       "<Figure size 500x300 with 2 Axes>"
      ]
     },
     "metadata": {
      "needs_background": "light"
     },
     "output_type": "display_data"
    }
   ],
   "source": [
    "_ = (\n",
    " ggplot(processed_ccs,\n",
    "        aes('retained', fill='has_indel')) +\n",
    " geom_bar(position='dodge') +\n",
    " geom_text(aes(label='..count..'), stat='count', va='bottom', size=7,\n",
    "           position=position_dodge(width=0.9), format_string='{:.2g}') +\n",
    " theme(figure_size=(2.5 * nlibs, 3),\n",
    "       panel_grid_major_x=element_blank(),\n",
    "       ) +\n",
    " ylab('number of CCSs') +\n",
    " scale_fill_manual(values=CBPALETTE[1:]) +\n",
    " facet_wrap('~ library', nrow=1)\n",
    " ).draw()"
   ]
  },
  {
   "cell_type": "markdown",
   "metadata": {},
   "source": [
    "Now get the empirical accuracy for each of the CCS groups mentioned above:"
   ]
  },
  {
   "cell_type": "code",
   "execution_count": 18,
   "metadata": {},
   "outputs": [],
   "source": [
    "high_acc = config['max_error_rate'] / 10\n",
    "empirical_acc = []\n",
    "\n",
    "for desc, query_str in [\n",
    "        ('retained', 'retained'),\n",
    "        ('retained, no indel', 'retained and not has_indel'),\n",
    "        ('10X accuracy',\n",
    "         f\"(gene_error < {high_acc}) and (barcode_error < {high_acc})\"),\n",
    "        ('10X accuracy, no indel',\n",
    "         f\"(gene_error < {high_acc}) and (barcode_error < {high_acc}) and not has_indel\")\n",
    "        ]:\n",
    "    # get just CCSs in that category\n",
    "    df = processed_ccs.query(query_str)\n",
    "    \n",
    "    # compute empirical accuracy\n",
    "    empirical_acc.append(\n",
    "        alignparse.consensus.empirical_accuracy(df,\n",
    "                                                mutation_col='gene_mutations')\n",
    "        .assign(description=desc)\n",
    "        .merge(df\n",
    "               .groupby('library')\n",
    "               .size()\n",
    "               .rename('number_CCSs')\n",
    "               .reset_index()\n",
    "               )\n",
    "        )\n",
    "\n",
    "# make description categorical to preserve order, and annotate as \"actual\"\n",
    "# the category (\"retained, no indel\") that we will use for building variants.\n",
    "empirical_acc = (\n",
    "    pd.concat(empirical_acc, ignore_index=True, sort=False)\n",
    "    .assign(description=lambda x: pd.Categorical(x['description'],\n",
    "                                                 x['description'].unique(),\n",
    "                                                 ordered=True),\n",
    "            actual=lambda x: numpy.where(x['description'] == 'retained, no indel',\n",
    "                                         True, False),\n",
    "            )\n",
    "    )"
   ]
  },
  {
   "cell_type": "markdown",
   "metadata": {},
   "source": [
    "Display table of the empirical accuracies:"
   ]
  },
  {
   "cell_type": "code",
   "execution_count": 19,
   "metadata": {},
   "outputs": [
    {
     "data": {
      "text/html": [
       "<table border=\"1\" class=\"dataframe\">\n",
       "  <thead>\n",
       "    <tr style=\"text-align: right;\">\n",
       "      <th>library</th>\n",
       "      <th>accuracy</th>\n",
       "      <th>description</th>\n",
       "      <th>number_CCSs</th>\n",
       "      <th>actual</th>\n",
       "    </tr>\n",
       "  </thead>\n",
       "  <tbody>\n",
       "    <tr>\n",
       "      <td>lib1</td>\n",
       "      <td>0.984716</td>\n",
       "      <td>retained</td>\n",
       "      <td>408296</td>\n",
       "      <td>False</td>\n",
       "    </tr>\n",
       "    <tr>\n",
       "      <td>lib2</td>\n",
       "      <td>0.984339</td>\n",
       "      <td>retained</td>\n",
       "      <td>531571</td>\n",
       "      <td>False</td>\n",
       "    </tr>\n",
       "    <tr>\n",
       "      <td>lib1</td>\n",
       "      <td>0.998122</td>\n",
       "      <td>retained, no indel</td>\n",
       "      <td>390947</td>\n",
       "      <td>True</td>\n",
       "    </tr>\n",
       "    <tr>\n",
       "      <td>lib2</td>\n",
       "      <td>0.998340</td>\n",
       "      <td>retained, no indel</td>\n",
       "      <td>509301</td>\n",
       "      <td>True</td>\n",
       "    </tr>\n",
       "    <tr>\n",
       "      <td>lib1</td>\n",
       "      <td>0.989409</td>\n",
       "      <td>10X accuracy</td>\n",
       "      <td>395183</td>\n",
       "      <td>False</td>\n",
       "    </tr>\n",
       "    <tr>\n",
       "      <td>lib2</td>\n",
       "      <td>0.990143</td>\n",
       "      <td>10X accuracy</td>\n",
       "      <td>507336</td>\n",
       "      <td>False</td>\n",
       "    </tr>\n",
       "    <tr>\n",
       "      <td>lib1</td>\n",
       "      <td>0.998138</td>\n",
       "      <td>10X accuracy, no indel</td>\n",
       "      <td>380115</td>\n",
       "      <td>False</td>\n",
       "    </tr>\n",
       "    <tr>\n",
       "      <td>lib2</td>\n",
       "      <td>0.998347</td>\n",
       "      <td>10X accuracy, no indel</td>\n",
       "      <td>488936</td>\n",
       "      <td>False</td>\n",
       "    </tr>\n",
       "  </tbody>\n",
       "</table>"
      ],
      "text/plain": [
       "<IPython.core.display.HTML object>"
      ]
     },
     "metadata": {},
     "output_type": "display_data"
    }
   ],
   "source": [
    "display(HTML(empirical_acc.to_html(index=False)))"
   ]
  },
  {
   "cell_type": "markdown",
   "metadata": {},
   "source": [
    "Plot the empirical accuracies, using a different color to show the category that we will actually use:"
   ]
  },
  {
   "cell_type": "code",
   "execution_count": 20,
   "metadata": {},
   "outputs": [
    {
     "name": "stdout",
     "output_type": "stream",
     "text": [
      "Saving plot to results/figures/empirical_CCS_accuracy.pdf\n"
     ]
    },
    {
     "data": {
      "image/png": "[encoded data removed]",
      "text/plain": [
       "<Figure size 350x225 with 2 Axes>"
      ]
     },
     "metadata": {
      "needs_background": "light"
     },
     "output_type": "display_data"
    }
   ],
   "source": [
    "p = (\n",
    "    ggplot(empirical_acc,\n",
    "           aes('description', 'accuracy', color='actual', label='accuracy')\n",
    "           ) +\n",
    "    geom_point(size=3) +\n",
    "    geom_text(va='bottom', size=9, format_string='{:.3g}', nudge_y=0.003) +\n",
    "    facet_wrap('~ library') +\n",
    "    theme(figure_size=(1.75 * nlibs, 2.25),\n",
    "          axis_text_x=element_text(angle=90),\n",
    "          panel_grid_major_x=element_blank(),\n",
    "          ) +\n",
    "    xlab('') +\n",
    "    scale_y_continuous(name='empirical accuracy', limits=(0.95, 1.005)) +\n",
    "    scale_color_manual(values=CBPALETTE, guide=False)\n",
    "    )\n",
    "\n",
    "plotfile = os.path.join(config['figs_dir'], 'empirical_CCS_accuracy.pdf')\n",
    "print(f\"Saving plot to {plotfile}\")\n",
    "_ = p.draw()"
   ]
  },
  {
   "cell_type": "markdown",
   "metadata": {},
   "source": [
    "The above analysis shows that if we exclude sequences with indels (which we plan to do among our consensus sequences), then the accuracy of each CCS is around 99%. \n",
    "We do **not** get notably higher empirical accuracy by imposing a more stringent filter from the PacBio `ccs` program, indicating that the major sources of error are due to processes that are not modeled in this program's accuracy filter (perhaps strand exchange or barcode sharing).\n",
    "\n",
    "Note that this empirical accuracy is for a **single** CCS.\n",
    "When we build the consensus sequences for each barcode below, we will take the consensus of CCSs within a barcode.\n",
    "So for barcodes with multiple CCSs, the actual accuracy of the consensus sequences will be higher than the empirical accuracy above due to capturing information from multiple CCSs."
   ]
  },
  {
   "cell_type": "markdown",
   "metadata": {},
   "source": [
    "### Consensus sequences for barcodes\n",
    "We call the consensus sequence for each barcode using the simple method implemented in [alignparse.consensus.simple_mutconsensus](https://jbloomlab.github.io/alignparse/alignparse.consensus.html?highlight=simple_mutconsensus#alignparse.consensus.simple_mutconsensus).\n",
    "The documentation for that function explains the method in detail, but basically it works like this:\n",
    " 1. When there is just one CCS per barcode, the consensus is just that sequence.\n",
    " 2. When there are multiple CCSs per barcode, they are used to build a consensus--however, the entire barcode is discarded if there are many differences between CCSs with the barcode, or high-frequency non-consensus mutations. The reason that barcodes are discarded in such cases as many differences between CCSs or high-frequency non-consensus mutations suggest errors such as barcode collisions or strand exchange.\n",
    " \n",
    "First, call the consensus for each barcode including **all** retained sequences, even those with indels:"
   ]
  },
  {
   "cell_type": "code",
   "execution_count": null,
   "metadata": {},
   "outputs": [],
   "source": [
    "consensus, dropped = alignparse.consensus.simple_mutconsensus(\n",
    "                        processed_ccs.query('retained'),\n",
    "                        group_cols=('library', 'barcode', 'target'),\n",
    "                        mutation_col='gene_mutations',\n",
    "                        )"
   ]
  },
  {
   "cell_type": "markdown",
   "metadata": {},
   "source": [
    "Here are the first few lines of the data frame of consensus sequences for each barcode.\n",
    "In addition to giving the library, barcode, target, and mutations, it also has a column indicating how many CCSs support the variant call:"
   ]
  },
  {
   "cell_type": "code",
   "execution_count": null,
   "metadata": {},
   "outputs": [],
   "source": [
    "display(HTML(consensus.head().to_html(index=False)))"
   ]
  },
  {
   "cell_type": "markdown",
   "metadata": {},
   "source": [
    "Since we retain variants with substitutions but ignore those with indels, add information about substitution mutations and number of indels:"
   ]
  },
  {
   "cell_type": "code",
   "execution_count": null,
   "metadata": {},
   "outputs": [],
   "source": [
    "consensus = alignparse.consensus.add_mut_info_cols(\n",
    "                    consensus,\n",
    "                    mutation_col='gene_mutations',\n",
    "                    sub_str_col='substitutions',\n",
    "                    n_indel_col='number_of_indels',\n",
    "                    overwrite_cols=True)\n",
    "\n",
    "display(HTML(consensus.head().to_html(index=False)))"
   ]
  },
  {
   "cell_type": "markdown",
   "metadata": {},
   "source": [
    "Plot distribution of number of CCSs supporting each variant call (consensus), indicating whether or not there is an indel:"
   ]
  },
  {
   "cell_type": "code",
   "execution_count": null,
   "metadata": {},
   "outputs": [],
   "source": [
    "max_variant_call_support = 6  # group variants with >= this much support\n",
    "\n",
    "_ = (\n",
    " ggplot(consensus\n",
    "        .assign(variant_call_support=lambda x: numpy.clip(x['variant_call_support'],\n",
    "                                                          None,\n",
    "                                                          max_variant_call_support),\n",
    "                indel_state=lambda x: numpy.where(x['number_of_indels'] > 0,\n",
    "                                                  'has indel', 'no indel')\n",
    "                ),\n",
    "        aes('variant_call_support')) +\n",
    " geom_bar() +\n",
    " ylab('number of variants') +\n",
    " facet_grid('indel_state ~ library') +\n",
    " theme(figure_size=(1.75 * nlibs, 3.5),\n",
    "       panel_grid_major_x=element_blank(),\n",
    "       ) \n",
    " ).draw()"
   ]
  },
  {
   "cell_type": "markdown",
   "metadata": {},
   "source": [
    "We see that most variant consensus sequences do **not** have indels, especially if we limit to the more \"accurate\" ones that have multiple CCSs supporting them.\n",
    "\n",
    "We will ignore all consensus sequences with indels in the variant-barcode lookup table. \n",
    "We do this for two reasons:\n",
    " 1. When there is just one CCS supporting a consensus, it is less likely to be accurate as indels are the main mode of PacBio error.\n",
    " 2. For the purposes of our studies, we are interested in point mutations rather than indels anyway.\n",
    " \n",
    "Here are number of valid consensus sequence (no indels) for each library and target:"
   ]
  },
  {
   "cell_type": "code",
   "execution_count": null,
   "metadata": {},
   "outputs": [],
   "source": [
    "consensus = consensus.query('number_of_indels == 0')\n",
    "\n",
    "lib_target_counts = (\n",
    "    consensus\n",
    "    .groupby(['library', 'target'])\n",
    "    .size()\n",
    "    .rename('consensus sequences')\n",
    "    .reset_index()\n",
    "    )\n",
    "\n",
    "display(HTML(lib_target_counts.to_html(index=False)))\n",
    "\n",
    "p = (ggplot(lib_target_counts.assign(xlabel=lambda x: x['target'] + ', ' + x['library']),\n",
    "            aes('xlabel', 'consensus sequences')) +\n",
    "     geom_point(size=3) +\n",
    "     theme(figure_size=(0.5 * nlibs * ntargets, 1.75),\n",
    "           axis_text_x=element_text(angle=90)) +\n",
    "     xlab('') +\n",
    "     scale_y_log10()\n",
    "     )\n",
    "\n",
    "_ = p.draw()"
   ]
  },
  {
   "cell_type": "markdown",
   "metadata": {},
   "source": [
    "For the non-primary targets, we want to drop all barcodes with mutations:"
   ]
  },
  {
   "cell_type": "code",
   "execution_count": null,
   "metadata": {},
   "outputs": [],
   "source": [
    "primary_target = config['primary_target']\n",
    "print(f\"Dropping variants with mutations for all targets except {primary_target}\")\n",
    "\n",
    "consensus = (\n",
    "    consensus\n",
    "    .assign(has_substitutions=lambda x: x['substitutions'].str.len().astype(bool))\n",
    "    )\n",
    "\n",
    "has_subs_by_target = (\n",
    "        consensus\n",
    "        .groupby(['target', 'library', 'has_substitutions'])\n",
    "        .aggregate(n_barcodes=pd.NamedAgg('barcode', 'count'))\n",
    "        .reset_index()\n",
    "        )\n",
    "\n",
    "display(HTML(has_subs_by_target\n",
    "             .pivot_table(index=['target', 'library'],\n",
    "                          columns='has_substitutions',\n",
    "                          values='n_barcodes',\n",
    "                          fill_value=0)\n",
    "             .to_html()))\n",
    "\n",
    "p = (ggplot(has_subs_by_target.assign(xlabel=lambda x: x['target'] + ', ' + x['library']),\n",
    "            aes('xlabel', 'n_barcodes', color='has_substitutions')) +\n",
    "     geom_point(size=3, alpha=0.7) +\n",
    "     theme(figure_size=(0.5 * nlibs * ntargets, 1.75),\n",
    "           axis_text_x=element_text(angle=90)) +\n",
    "     xlab('') +\n",
    "     scale_y_log10() +\n",
    "     scale_color_manual(values=CBPALETTE)\n",
    "     )\n",
    "\n",
    "_ = p.draw()"
   ]
  },
  {
   "cell_type": "markdown",
   "metadata": {},
   "source": [
    "Print most common non-primary targets with mutations (useful for debugging):"
   ]
  },
  {
   "cell_type": "code",
   "execution_count": null,
   "metadata": {},
   "outputs": [],
   "source": [
    "display(HTML(\n",
    "    consensus\n",
    "    .query('target != @primary_target')\n",
    "    .query('has_substitutions')\n",
    "    .groupby(['target', 'library', 'substitutions'])\n",
    "    .aggregate(n_barcodes=pd.NamedAgg('barcode', 'count'))\n",
    "    .reset_index()\n",
    "    .sort_values('n_barcodes', ascending=False)\n",
    "    .head(n=20)\n",
    "    .to_html(index=False)\n",
    "    ))"
   ]
  },
  {
   "cell_type": "markdown",
   "metadata": {},
   "source": [
    "Remove the non-primary targets with any substitutions:"
   ]
  },
  {
   "cell_type": "code",
   "execution_count": null,
   "metadata": {},
   "outputs": [],
   "source": [
    "print(f\"Culling the {len(consensus)} barcodes to remove mutated non-primary targets\")\n",
    "\n",
    "consensus = consensus.query('(target == @primary_target) or (has_substitutions == False)')\n",
    "\n",
    "print(f\"Retained {len(consensus)} barcodes after culling\")"
   ]
  },
  {
   "cell_type": "markdown",
   "metadata": {},
   "source": [
    "Are there any barcodes in the same library that are shared across targets?\n",
    "If so, we need to get rid of those as they will be confounded in barcode parsing:"
   ]
  },
  {
   "cell_type": "code",
   "execution_count": null,
   "metadata": {},
   "outputs": [],
   "source": [
    "dup_barcodes = (\n",
    "    consensus\n",
    "    .groupby(['library', 'barcode'])\n",
    "    .size()\n",
    "    .rename('duplicate_count')\n",
    "    .reset_index()\n",
    "    .query('duplicate_count > 1')\n",
    "    )\n",
    "\n",
    "print('Here are duplicated barcodes:')\n",
    "display(HTML(dup_barcodes.head().to_html(index=False)))\n",
    "\n",
    "print(f\"\\nRemoving the {len(dup_barcodes)} duplicated barcodes.\"\n",
    "      f\"Started with {len(consensus)} barcodes:\")\n",
    "consensus = (\n",
    "    consensus\n",
    "    .merge(dup_barcodes, on=['library', 'barcode'], how='outer')\n",
    "    .query('duplicate_count.isnull()', engine='python')\n",
    "    )\n",
    "print(f\"After removing duplicates, there are {len(consensus)} barcodes.\")"
   ]
  },
  {
   "cell_type": "markdown",
   "metadata": {},
   "source": [
    "Below we write the retained consensus sequences to a CSV file that links the nucleotide mutations to the barcodes.\n",
    "(The next section analyzes this variant table in detail, and provides have more precise information on the number of variants and relevant statistics):"
   ]
  },
  {
   "cell_type": "code",
   "execution_count": null,
   "metadata": {},
   "outputs": [],
   "source": [
    "print(f\"Writing nucleotide variants to {config['nt_variant_table_file']}\")\n",
    "      \n",
    "(consensus\n",
    " [['target', 'library', 'barcode', 'substitutions', 'variant_call_support']]\n",
    " .to_csv(config['nt_variant_table_file'], index=False)\n",
    " )\n",
    "      \n",
    "print('Here are the first few lines of this file:')\n",
    "display(HTML(\n",
    "    pd.read_csv(config['nt_variant_table_file'], na_filter=None)\n",
    "    .head()\n",
    "    .to_html(index=False)\n",
    "    ))"
   ]
  },
  {
   "cell_type": "markdown",
   "metadata": {},
   "source": [
    "What happened to the barcodes that we \"dropped\" because we could not construct a reliable consensus?\n",
    "The `dropped` data frame from [alignparse.consensus.simple_mutconsensus](https://jbloomlab.github.io/alignparse/alignparse.consensus.html?highlight=simple_mutconsensus#alignparse.consensus.simple_mutconsensus) has this information:"
   ]
  },
  {
   "cell_type": "code",
   "execution_count": null,
   "metadata": {},
   "outputs": [],
   "source": [
    "display(HTML(dropped.head().to_html(index=False)))"
   ]
  },
  {
   "cell_type": "markdown",
   "metadata": {},
   "source": [
    "Summarize the information in this data frame on dropped barcodes with the plot below.\n",
    "This plot shows several things.\n",
    "First, we see that the total number of barcodes dropped is modest (just a few thousand per library) relative to the total number of barcodes per library (seen above to be on the order of hundreds of thousands).\n",
    "Second, the main reason that barcodes are dropped is that there are CCSs within the same barcode with suspiciously large numbers of mutations relative to the consensus---which we use as a filter to discard the entire barcode as it could indicate strand exchange or some other issue.\n",
    "In any case, the modest number of dropped barcodes indicates that there probably isn't much of a need to worry: "
   ]
  },
  {
   "cell_type": "code",
   "execution_count": null,
   "metadata": {},
   "outputs": [],
   "source": [
    "max_nseqs = 8  # plot together all barcodes with >= this many sequences\n",
    "\n",
    "_ = (\n",
    " ggplot(\n",
    "    dropped.assign(nseqs=lambda x: numpy.clip(x['nseqs'], None, max_nseqs)),\n",
    "    aes('nseqs')) + \n",
    " geom_bar() + \n",
    " scale_x_continuous(limits=(1, None)) +\n",
    " xlab('number of sequences for barcode') +\n",
    " ylab('number of barcodes') +\n",
    " facet_grid('library ~ drop_reason') +\n",
    " theme(figure_size=(10, 1.5 * nlibs),\n",
    "       panel_grid_major_x=element_blank(),\n",
    "       )\n",
    " ).draw()"
   ]
  },
  {
   "cell_type": "markdown",
   "metadata": {},
   "source": [
    "## Create barcode-variant table\n",
    "We now create a [CodonVariantTable](https://jbloomlab.github.io/dms_variants/dms_variants.codonvarianttable.html#dms_variants.codonvarianttable.CodonVariantTable) that stores and processes all the information about the variant consensus sequences.\n",
    "Below we initialize such a table, and then analyze information about its composition.\n",
    "\n",
    "### Initialize codon variant table\n",
    "In order to initialize the codon variant table, we need two pieces of information:\n",
    "  1. The wildtype gene sequence.\n",
    "  2. The list of nucleotide mutations for each variant as determined in the consensus calling above.\n",
    "\n",
    "Read \"wildtype\" gene sequence to which we made the alignments (in order to do this, initialize an `alignparse.Targets` and get the gene sequence from it):"
   ]
  },
  {
   "cell_type": "code",
   "execution_count": null,
   "metadata": {},
   "outputs": [],
   "source": [
    "targets = alignparse.targets.Targets(seqsfile=config['amplicons'],\n",
    "                                     feature_parse_specs=config['feature_parse_specs'])\n",
    "geneseq = targets.get_target(config['primary_target']).get_feature('gene').seq\n",
    "\n",
    "print(f\"Read gene of {len(geneseq)} nts for {config['primary_target']} from {config['amplicons']}\")"
   ]
  },
  {
   "cell_type": "markdown",
   "metadata": {},
   "source": [
    "Now initialize the codon variant table using this wildtype sequence and our list of nucleotide mutations for each variant:"
   ]
  },
  {
   "cell_type": "code",
   "execution_count": null,
   "metadata": {},
   "outputs": [],
   "source": [
    "variants = dms_variants.codonvarianttable.CodonVariantTable(\n",
    "                barcode_variant_file=config['nt_variant_table_file'],\n",
    "                geneseq=geneseq,\n",
    "                primary_target=config['primary_target'],\n",
    "                )"
   ]
  },
  {
   "cell_type": "markdown",
   "metadata": {},
   "source": [
    "### Basic stats on variants\n",
    "We now will analyze the variants.\n",
    "In this call and in the plots below, we set `samples=None` as we aren't looking at variant counts in specific samples, but are simply looking at properties of the variants in the table."
   ]
  },
  {
   "cell_type": "code",
   "execution_count": null,
   "metadata": {},
   "outputs": [],
   "source": [
    "# TEMPORARY CELL, DEBUGGING\n",
    "import yaml\n",
    "import pandas as pd\n",
    "import alignparse.targets\n",
    "import dms_variants\n",
    "import dms_variants.codonvarianttable\n",
    "\n",
    "with open('config.yaml') as f:\n",
    "    config = yaml.safe_load(f)\n",
    "    \n",
    "dms_variants.__version__"
   ]
  },
  {
   "cell_type": "code",
   "execution_count": null,
   "metadata": {},
   "outputs": [],
   "source": [
    "display(HTML(\n",
    "    variants\n",
    "    .n_variants_df(samples=None)\n",
    "    .to_html(index=False)\n",
    "    ))"
   ]
  },
  {
   "cell_type": "markdown",
   "metadata": {},
   "source": [
    "Plot the number of variants supported by each number of CCSs:"
   ]
  },
  {
   "cell_type": "code",
   "execution_count": null,
   "metadata": {},
   "outputs": [],
   "source": [
    "max_support = 7  # group variants with >= this much support\n",
    "\n",
    "p = variants.plotVariantSupportHistogram(max_support=max_support,\n",
    "                                         widthscale=1.1,\n",
    "                                         heightscale=0.9)\n",
    "p = p + theme(panel_grid_major_x=element_blank())  # no vertical grid lines\n",
    "_ = p.draw()"
   ]
  },
  {
   "cell_type": "markdown",
   "metadata": {},
   "source": [
    "Add labels to the plot giving total number of variants:"
   ]
  },
  {
   "cell_type": "code",
   "execution_count": null,
   "metadata": {},
   "outputs": [],
   "source": [
    "p = p + geom_text(aes(label='count'),\n",
    "                  data=variants.n_variants_df(samples=None),\n",
    "                  ha='right',\n",
    "                  va='top',\n",
    "                  x=max_support + 0.5,\n",
    "                  y=variants.barcode_variant_df\n",
    "                    .groupby('variant_call_support')\n",
    "                    .size()\n",
    "                    .max(),\n",
    "                  size=10,\n",
    "                  format_string='total variants:\\n{}',\n",
    "                  )\n",
    "_ = p.draw()\n",
    "plotfile = os.path.join(config['figs_dir'], 'n_variants_and_support.pdf')\n",
    "print(f\"Saving plot to {plotfile}\")\n",
    "p.save(plotfile)"
   ]
  },
  {
   "cell_type": "markdown",
   "metadata": {},
   "source": [
    "### Mutations per variant\n",
    "Plot the number of barcoded variants with each number of amino-acid and codon mutations:"
   ]
  },
  {
   "cell_type": "code",
   "execution_count": null,
   "metadata": {},
   "outputs": [],
   "source": [
    "max_muts = 7  # group all variants with >= this many mutations\n",
    "\n",
    "for mut_type in ['aa', 'codon']:\n",
    "    p = variants.plotNumMutsHistogram(mut_type, samples=None, max_muts=max_muts,\n",
    "                                      widthscale=1.1,\n",
    "                                      heightscale=0.9)\n",
    "    p = p + theme(panel_grid_major_x=element_blank())  # no vertical grid lines\n",
    "    _ = p.draw()\n",
    "    plotfile = os.path.join(config['figs_dir'], f\"n_{mut_type}_muts_per_variant.pdf\")\n",
    "    print(f\"Saving plot to {plotfile}\")\n",
    "    p.save(plotfile)"
   ]
  },
  {
   "cell_type": "markdown",
   "metadata": {},
   "source": [
    "Plot the frequencies of different codon mutation types among **all** variants (any number of mutations):"
   ]
  },
  {
   "cell_type": "code",
   "execution_count": null,
   "metadata": {},
   "outputs": [],
   "source": [
    "p = variants.plotNumCodonMutsByType(variant_type='all', samples=None,\n",
    "                                    ylabel='mutations per variant',\n",
    "                                    heightscale=0.8)\n",
    "p = p + theme(panel_grid_major_x=element_blank())  # no vertical grid lines\n",
    "_ = p.draw()\n",
    "plotfile = os.path.join(config['figs_dir'], f\"avg_muts_per_variant.pdf\")\n",
    "print(f\"Saving plot to {plotfile}\")\n",
    "p.save(plotfile)"
   ]
  },
  {
   "cell_type": "markdown",
   "metadata": {},
   "source": [
    "Variants supported by multiple PacBio CCSs should have fewer spurious mutations since sequencing errors are very unlikely to occur on two CCSs.\n",
    "Below we plot the number of codon mutations per variant among variants with at least two CCSs supporting their call.\n",
    "The difference in mutation rates here and in the plot above (that does not apply the `min_support=2` filter) gives some estimate of the frequency of mutations in our variants our spurious.\n",
    "In fact, we see the numbers are very similar, indicating that few of the mutations are spurious:"
   ]
  },
  {
   "cell_type": "code",
   "execution_count": null,
   "metadata": {},
   "outputs": [],
   "source": [
    "p = variants.plotNumCodonMutsByType(variant_type='all', samples=None,\n",
    "                                    ylabel='mutations_per_variant', \n",
    "                                    min_support=2, heightscale=0.8)\n",
    "p = p + ylab('mutations per variant')  # simpler xlabel\n",
    "p = p + theme(panel_grid_major_x=element_blank())  # no vertical grid lines\n",
    "_ = p.draw()"
   ]
  },
  {
   "cell_type": "markdown",
   "metadata": {},
   "source": [
    "### Completeness of mutation sampling\n",
    "We examine how completely amino-acid mutations are sampled by the variants, looking at single-mutant variants only and all variants.\n",
    "The plot below shows that virtually every mutation is found in a variant in each library, even if we just look among the single mutants.\n",
    "Things look especially good if we aggregate across libraries:"
   ]
  },
  {
   "cell_type": "code",
   "execution_count": null,
   "metadata": {},
   "outputs": [],
   "source": [
    "for variant_type in ['all', 'single']:\n",
    "    p = variants.plotCumulMutCoverage(variant_type, mut_type='aa', samples=None,max_count=200)\n",
    "    _ = p.draw()\n",
    "    plotfile = os.path.join(config['figs_dir'],\n",
    "                            f\"variant_cumul_{variant_type}_mut_coverage.pdf\")\n",
    "    print(f\"Saving plot to {plotfile}\")\n",
    "    p.save(plotfile)"
   ]
  },
  {
   "cell_type": "markdown",
   "metadata": {},
   "source": [
    "To get more quantitative information like that plotted above, we determine how many mutations are found 0, 1, or >1 times both among single and all mutants:"
   ]
  },
  {
   "cell_type": "code",
   "execution_count": null,
   "metadata": {},
   "outputs": [],
   "source": [
    "count_dfs = []\n",
    "for variant_type in ['all', 'single']:\n",
    "    count_dfs.append(\n",
    "        variants.mutCounts(variant_type, mut_type='aa', samples=None)\n",
    "        .assign(variant_type=variant_type)\n",
    "        )\n",
    "    \n",
    "display(HTML(\n",
    "    pd.concat(count_dfs)\n",
    "    .assign(count=lambda x: (numpy.clip(x['count'], None, 2)\n",
    "                             .map({0: '0', 1: '1', 2:'>1'}))\n",
    "            )\n",
    "    .groupby(['variant_type', 'library', 'count'])\n",
    "    .aggregate(number_of_mutations=pd.NamedAgg(column='mutation', aggfunc='count'))\n",
    "    .to_html()\n",
    "    ))"
   ]
  },
  {
   "cell_type": "markdown",
   "metadata": {},
   "source": [
    "### Mutation frequencies along gene\n",
    "We plot the frequencies of mutations along the gene among the variants.\n",
    "Ideally, this would be uniform.\n",
    "We make the plot for both all variants and single-mutant / wildtype variants:"
   ]
  },
  {
   "cell_type": "code",
   "execution_count": null,
   "metadata": {},
   "outputs": [],
   "source": [
    "for variant_type in ['all', 'single']:\n",
    "    p = variants.plotMutFreqs(variant_type, mut_type='codon', samples=None)\n",
    "    p.draw()"
   ]
  },
  {
   "cell_type": "markdown",
   "metadata": {},
   "source": [
    "We can also use heat maps to examine the extent to which specific amino-acid or codon mutations are over-represented.\n",
    "These heat maps are large, so we make them just for all variants and the merge of all libraries:"
   ]
  },
  {
   "cell_type": "code",
   "execution_count": null,
   "metadata": {},
   "outputs": [],
   "source": [
    "for mut_type in ['aa', 'codon']:\n",
    "    p = variants.plotMutHeatmap('all', mut_type, samples=None, #libraries='all_only',\n",
    "                                widthscale=2)\n",
    "    p.draw()"
   ]
  },
  {
   "cell_type": "markdown",
   "metadata": {},
   "source": [
    "### Write codon-variant table\n",
    "We write the codon variant table to a CSV file.\n",
    "This table looks like this:"
   ]
  },
  {
   "cell_type": "code",
   "execution_count": null,
   "metadata": {},
   "outputs": [],
   "source": [
    "display(HTML(\n",
    "    variants.barcode_variant_df\n",
    "    .head()\n",
    "    .to_html(index=False)\n",
    "    ))"
   ]
  },
  {
   "cell_type": "markdown",
   "metadata": {},
   "source": [
    "Note how this table differs from the nucleotide variant table we generated above and used to initialize the `CodonVariantTable` in that it gives **codon** substitutions and associated amino-acid substitutions.\n",
    "\n",
    "Write it to CSV file:"
   ]
  },
  {
   "cell_type": "code",
   "execution_count": null,
   "metadata": {},
   "outputs": [],
   "source": [
    "print(f\"Writing codon-variant table to {config['codon_variant_table_file']}\")\n",
    "\n",
    "variants.barcode_variant_df.to_csv(config['codon_variant_table_file'], index=False)"
   ]
  },
  {
   "cell_type": "code",
   "execution_count": null,
   "metadata": {},
   "outputs": [],
   "source": []
  }
 ],
 "metadata": {
  "kernelspec": {
   "display_name": "Python 3",
   "language": "python",
   "name": "python3"
  },
  "language_info": {
   "codemirror_mode": {
    "name": "ipython",
    "version": 3
   },
   "file_extension": ".py",
   "mimetype": "text/x-python",
   "name": "python",
   "nbconvert_exporter": "python",
   "pygments_lexer": "ipython3",
   "version": "3.7.6"
  },
  "toc": {
   "nav_menu": {},
   "number_sections": false,
   "sideBar": true,
   "skip_h1_title": false,
   "toc_cell": true,
   "toc_position": {
    "height": "calc(100% - 180px)",
    "left": "10px",
    "top": "150px",
    "width": "241.818px"
   },
   "toc_section_display": "block",
   "toc_window_display": true
  },
  "toc-autonumbering": false,
  "toc-showcode": false,
  "toc-showmarkdowntxt": false,
  "toc-showtags": false
 },
 "nbformat": 4,
 "nbformat_minor": 4
}
